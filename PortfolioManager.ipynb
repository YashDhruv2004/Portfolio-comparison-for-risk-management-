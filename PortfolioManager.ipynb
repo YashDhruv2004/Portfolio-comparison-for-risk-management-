It used python backtesting for comparing your investment choices and helps you to understand the diversivication implementation as well as the differences in the return you will get 
